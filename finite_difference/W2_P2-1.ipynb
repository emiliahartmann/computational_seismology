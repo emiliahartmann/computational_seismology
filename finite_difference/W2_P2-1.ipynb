<div style='background-image: url("title01.png") ; padding: 0px ; background-size: cover ; border-radius: 5px ; height: 200px'>
<div style="float: right ; margin: 50px ; padding: 20px ; background: rgba(255 , 255 , 255 , 0.7) ; width: 50% ; height: 150px">
<div style="position: relative ; top: 50% ; transform: translatey(-50%)">
            <div style="font-size: xx-large ; font-weight: 900 ; color: rgba(0 , 0 , 0 , 0.8) ; line-height: 100%">Computers, Waves, Simulations</div>
            <div style="font-size: large ; padding-top: 20px ; color: rgba(0 , 0 , 0 , 0.5)">Finite-Difference Method - Second Derivative</div>
        </div>
    </div>
</div>

#### This exercise covers the following aspects:
* Initializing a Gaussian test function
* Calculation of numerical second derivative with 3-point operator
* Accuracy improvement of numerical derivative with 5-point operator

**Note:** 
* Loop boundaries changed for 5-point operator, May 2020
