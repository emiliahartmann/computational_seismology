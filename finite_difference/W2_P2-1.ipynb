{
 "cells": [
  {
   "cell_type": "markdown",
   "id": "478d4cc2",
   "metadata": {},
   "source": [
    "# Computers, Waves and Simulations:\n",
    "## Finite-difference method - first derivative"
   ]
  },
  {
   "cell_type": "markdown",
   "id": "acd7bb5a",
   "metadata": {},
   "source": [
    "#### This exercise covers the following aspects:\n",
    "* Initializing a Gaussian test function\n",
    "* Calculation of numerical second derivative with 3-point operator\n",
    "* Accuracy improvement of numerical derivative with 5-point operator\n",
    "\n",
    "**Note:** \n",
    "* Loop boundaries changed for 5-point operator, May 2020"
   ]
  },
  {
   "cell_type": "code",
   "execution_count": null,
   "metadata": {
    "vscode": {
     "languageId": "plaintext"
    }
   },
   "outputs": [],
   "source": [
    "# Import Libraries\n",
    "import numpy as np\n",
    "from math import *\n",
    "import matplotlib.pyplot as plt"
   ]
  },
  {
   "cell_type": "markdown",
   "metadata": {},
   "source": [
    "We initialize a Gaussian function\n",
    "\n",
    "\\begin{equation} \n",
    "f(x)=\\dfrac{1}{\\sqrt{2 \\pi a}}e^{-\\dfrac{(x-x_0)^2}{2a}}\n",
    "\\end{equation} \n",
    "\n",
    "Note that this specific definition is a $\\delta-$generating function. This means that $\\int{f(x) dx}=1$ and in the limit $a\\rightarrow0$ the function f(x) converges to a $\\delta-$function.  "
   ]
  },
  {
   "cell_type": "code",
   "execution_count": null,
   "metadata": {
    "vscode": {
     "languageId": "plaintext"
    }
   },
   "outputs": [],
   "source": [
    "# Initialization \n",
    "xmax=10.0       # physical domain (m)\n",
    "nx=100          # number of space samples\n",
    "a=.25           # exponent of Gaussian function    \n",
    "dx=xmax/(nx-1)  # Grid spacing dx (m)\n",
    "x0 = xmax/2     # Center of Gaussian function x0 (m)\n",
    "\n",
    "x=np.linspace(0,xmax,nx)   # defining space variable\n",
    "\n",
    "# Initialization of Gaussian function           \n",
    "f=(1./sqrt(2*pi*a))*np.exp(-(((x-x0)**2)/(2*a)))"
   ]
  },
  {
   "cell_type": "code",
   "execution_count": null,
   "metadata": {
    "vscode": {
     "languageId": "plaintext"
    }
   },
   "outputs": [],
   "source": []
  }
 ],
 "metadata": {
  "language_info": {
   "name": "python"
  },
  "orig_nbformat": 4
 },
 "nbformat": 4,
 "nbformat_minor": 2
}
