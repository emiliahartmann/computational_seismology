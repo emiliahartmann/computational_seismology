{
 "cells": [
  {
   "cell_type": "markdown",
   "id": "478d4cc2",
   "metadata": {},
   "source": [
    "# Computers, Waves and Simulations:\n",
    "## Finite-difference method - first derivative"
   ]
  },
  {
   "cell_type": "markdown",
   "id": "acd7bb5a",
   "metadata": {},
   "source": [
    "#### This exercise covers the following aspects:\n",
    "* Calculation of numerical first derivative\n",
    "* Comparison with analytical solution\n",
    "* Dependence of error on space increment"
   ]
  }
}
